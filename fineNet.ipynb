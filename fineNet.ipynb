{
  "nbformat": 4,
  "nbformat_minor": 0,
  "metadata": {
    "colab": {
      "name": "fineNet.ipynb",
      "provenance": []
    },
    "kernelspec": {
      "name": "python3",
      "display_name": "Python 3"
    },
    "accelerator": "GPU"
  },
  "cells": [
    {
      "cell_type": "code",
      "metadata": {
        "id": "sN3NbRn8jh3T"
      },
      "source": [
        "from keras import backend as K\r\n",
        "from google.colab import drive\r\n",
        "from keras.layers import Conv2D, MaxPooling2D, Conv2DTranspose, BatchNormalization, Dropout, Input, Cropping2D, Add, ZeroPadding2D\r\n",
        "from keras.models import Model, load_model\r\n",
        "from keras.optimizers import Adam\r\n",
        "from keras.losses import BinaryCrossentropy\r\n",
        "import numpy as np\r\n",
        "from matplotlib import pyplot as plt\r\n",
        "from sklearn.model_selection import train_test_split"
      ],
      "execution_count": null,
      "outputs": []
    },
    {
      "cell_type": "code",
      "metadata": {
        "colab": {
          "base_uri": "https://localhost:8080/"
        },
        "id": "bupDKszcj4lM",
        "outputId": "69bf38d3-fd4e-4cc7-8b7e-58a6e6ac11e0"
      },
      "source": [
        "from google.colab import drive\r\n",
        "drive.mount('/content/drive')"
      ],
      "execution_count": null,
      "outputs": [
        {
          "output_type": "stream",
          "text": [
            "Mounted at /content/drive\n"
          ],
          "name": "stdout"
        }
      ]
    },
    {
      "cell_type": "code",
      "metadata": {
        "id": "67jwPJamQ0np"
      },
      "source": [
        "pad_dim = (1200,350,420)\r\n",
        "bce = BinaryCrossentropy()"
      ],
      "execution_count": null,
      "outputs": []
    },
    {
      "cell_type": "code",
      "metadata": {
        "id": "pShNmhiij6Bb"
      },
      "source": [
        "def calc_cropping_layer(upsample, downsample):\r\n",
        "    # Downsample layer is always bigger\r\n",
        "    shape_mismatch = tuple(downsample.shape[i]-upsample.shape[i] for i in range(1,3))\r\n",
        "    return tuple((i//2, i-i//2) for i in shape_mismatch)"
      ],
      "execution_count": null,
      "outputs": []
    },
    {
      "cell_type": "code",
      "metadata": {
        "id": "gn2WPSaOkGjg"
      },
      "source": [
        "def dice_coeff(y_true, y_pred ):\r\n",
        "\r\n",
        "    smooth=1.\r\n",
        "\r\n",
        "    y_true_f = K.flatten(y_true)\r\n",
        "    y_pred_f = K.flatten(y_pred)\r\n",
        "    intersection = K.sum(y_true_f * y_pred_f)\r\n",
        "    return (2. * intersection + smooth) / (K.sum(y_true_f) + K.sum(y_pred_f) + smooth)\r\n",
        "\r\n",
        "\r\n",
        "def dice_loss(y_true, y_pred,w = (0.5,0.5),bce = bce):\r\n",
        "    return w[0]*(1-dice_coeff(y_true, y_pred) ) + w[1]*(bce(y_true,y_pred) ) "
      ],
      "execution_count": null,
      "outputs": []
    },
    {
      "cell_type": "code",
      "metadata": {
        "id": "6YZD6x5qPhAM"
      },
      "source": [
        "def iou_coeff(y_true, y_pred, smooth=1):\r\n",
        "  intersection = K.sum(K.abs(y_true * y_pred), axis=[1,2,3])\r\n",
        "  union = K.sum(y_true,[1,2,3])+K.sum(y_pred,[1,2,3])-intersection\r\n",
        "  iou = K.mean((intersection + smooth) / (union + smooth), axis=0)\r\n",
        "  return iou\r\n",
        "\r\n",
        "def iou_loss(y_true, y_pred, w = (0.2,0.3) ):\r\n",
        "    return w[0]*(1-iou_coeff(y_true, y_pred)) + w[1]*(bce(y_true, y_pred) ) +dice_coeff_loss(y_true, y_pred,w = (0.5,0))"
      ],
      "execution_count": null,
      "outputs": []
    },
    {
      "cell_type": "code",
      "metadata": {
        "id": "nO_ihq-6kGm8"
      },
      "source": [
        "def build_unet(widths, padshape=(300,400), p = 0.1):\r\n",
        "\r\n",
        "    x0 = Input(shape=(padshape[0],padshape[1],1))\r\n",
        "\r\n",
        "    # -- Downsample layers --\r\n",
        "\r\n",
        "    # Block 1\r\n",
        "    xd11 = Conv2D(widths['1'], 3 , activation='relu', padding='same')(x0)\r\n",
        "    xd11 = BatchNormalization()(xd11)\r\n",
        "\r\n",
        "    xd12 = Conv2D(widths['1'], 3, activation='relu', padding='same')(xd11)\r\n",
        "    xd12 = BatchNormalization()(xd12)\r\n",
        "    xd12 = Dropout(p)(xd12)\r\n",
        "\r\n",
        "\r\n",
        "    # Block 2\r\n",
        "    xd20 = MaxPooling2D(2)(xd12)\r\n",
        "    \r\n",
        "    xd21 = Conv2D(widths['2'], 3, activation='relu', padding='same')(xd20)\r\n",
        "    xd21 = BatchNormalization()(xd21)\r\n",
        "\r\n",
        "    xd22 = Conv2D(widths['2'], 3, activation='relu', padding='same')(xd21)\r\n",
        "    xd22 = BatchNormalization()(xd22)\r\n",
        "    xd22 = Dropout(p)(xd22)\r\n",
        "\r\n",
        "\r\n",
        "    # Block 3\r\n",
        "    xd30 = MaxPooling2D(2)(xd22)\r\n",
        "    \r\n",
        "    xd31 = Conv2D(widths['3'], 3, activation='relu', padding='same')(xd30)\r\n",
        "    xd31 = BatchNormalization()(xd31)\r\n",
        "\r\n",
        "    xd32 = Conv2D(widths['3'], 3, activation='relu', padding='same')(xd31)\r\n",
        "    xd32 = BatchNormalization()(xd32)\r\n",
        "    xd32 = Dropout(p)(xd32)\r\n",
        "\r\n",
        "    \r\n",
        "    # Block 4\r\n",
        "    xd40 = MaxPooling2D(2)(xd32)\r\n",
        "    \r\n",
        "    xd41 = Conv2D(widths['4'], 3, activation='relu', padding='same')(xd40)\r\n",
        "    xd41 = BatchNormalization()(xd41)\r\n",
        "\r\n",
        "    xd42 = Conv2D(widths['3'], 3, activation='relu', padding='same')(xd41)\r\n",
        "    xd42 = BatchNormalization()(xd42)\r\n",
        "    xd42 = Dropout(p)(xd42)\r\n",
        "\r\n",
        "\r\n",
        "    # -- Bottleneck --\r\n",
        "\r\n",
        "    xb = MaxPooling2D(2)(xd42)\r\n",
        "    xb1 = Conv2D(widths['bottleneck'], 3, activation='relu', padding='same')(xb)\r\n",
        "    xb2 = Conv2D(widths['bottleneck'], 3, activation='relu', padding='same')(xb1)\r\n",
        "    xb2 = Dropout(p)(xb2)\r\n",
        "\r\n",
        "    # -- Upsample Layers --    \r\n",
        "\r\n",
        "    # Block 4\r\n",
        "    xu40 = Conv2DTranspose(1, 2, strides=2, activation='relu', padding='same')(xb2)    \r\n",
        "    crop_dims = calc_cropping_layer(xu40, xd42)\r\n",
        "    skip_connection = Cropping2D(crop_dims)(xd42)\r\n",
        "    xu40 = Add()([xu40, skip_connection])\r\n",
        "\r\n",
        "    xu41 = Conv2D(widths['3'], 3, activation='relu', padding='same')(xu40)\r\n",
        "    xu41 = BatchNormalization()(xu41)\r\n",
        "\r\n",
        "    xu42 = Conv2D(widths['3'], 3, activation='relu', padding='same')(xu41)\r\n",
        "    xu42 = BatchNormalization()(xu42)\r\n",
        "    xu42 = Dropout(p)(xu42)\r\n",
        "\r\n",
        "\r\n",
        "    # Block 3\r\n",
        "\r\n",
        "    xu30 = Conv2DTranspose(1, 2, strides=2, activation='relu', padding='same')(xu42)    \r\n",
        "    crop_dims = calc_cropping_layer(xu30, xd32)\r\n",
        "    skip_connection = Cropping2D(crop_dims)(xd32)\r\n",
        "    xu30 = Add()([xu30, skip_connection])\r\n",
        "\r\n",
        "    xu31 = Conv2D(widths['3'], 3, activation='relu', padding='same')(xu30)\r\n",
        "    xu31 = BatchNormalization()(xu31)\r\n",
        "\r\n",
        "    xu32 = Conv2D(widths['3'], 3, activation='relu', padding='same')(xu31)\r\n",
        "    xu32 = BatchNormalization()(xu32)\r\n",
        "    xu32 = Dropout(p)(xu32)\r\n",
        "\r\n",
        "\r\n",
        "    # Block 2\r\n",
        "\r\n",
        "    xu20 = Conv2DTranspose(1, 2, strides=2 , activation='relu', padding='same')(xu32)\r\n",
        "    crop_dims = calc_cropping_layer(xu20,xd22)\r\n",
        "    skip_connection = Cropping2D(crop_dims)(xd22)\r\n",
        "    xu20 = Add()([xu20, skip_connection])\r\n",
        "\r\n",
        "    xu21 = Conv2D(widths['2'], 3, activation='relu', padding='same')(xu20)\r\n",
        "    xu21 = BatchNormalization()(xu21)\r\n",
        "\r\n",
        "    xu22 = Conv2D(widths['2'], 3, activation='relu', padding='same')(xu21)\r\n",
        "    xu22 = BatchNormalization()(xu22)\r\n",
        "    xu22 = Dropout(p)(xu22)\r\n",
        "\r\n",
        "    # Block 1\r\n",
        "    xu10 = Conv2DTranspose(1, 2, strides=2 , activation='relu', padding='same')(xu22)\r\n",
        "\r\n",
        "    crop_dims = calc_cropping_layer(xu10,xd12)\r\n",
        "    skip_connection = Cropping2D(crop_dims)(xd12)\r\n",
        "    xu10 = Add()([xu10, skip_connection])\r\n",
        "\r\n",
        "    xu11 = Conv2D(widths['1'], 3, activation='relu', padding='same')(xu10)\r\n",
        "    xu11 = BatchNormalization()(xu11)\r\n",
        "    xu11 = Dropout(p)(xu11)\r\n",
        "\r\n",
        "    xu12 = Conv2D(widths['1'], 3, activation='relu', padding='same')(xu11)\r\n",
        "    xu12 = BatchNormalization()(xu12)\r\n",
        "    xu12 = Dropout(2*p)(xu12)\r\n",
        "\r\n",
        "    # --- Output Layers ---\r\n",
        "    x_out = Conv2D(1, 1, padding='same', activation='sigmoid')(xu12)\r\n",
        "    pad_dims = calc_cropping_layer(x_out, x0)\r\n",
        "    x_out = ZeroPadding2D(pad_dims)(x_out)\r\n",
        "\r\n",
        "    model = Model(x0, x_out)\r\n",
        "\r\n",
        "    return model\r\n"
      ],
      "execution_count": null,
      "outputs": []
    },
    {
      "cell_type": "code",
      "metadata": {
        "id": "kCOHvr6pkGzh"
      },
      "source": [
        "def get_data(start,stop, padshape=(1200,300,400)):\r\n",
        "  X = []\r\n",
        "  Y = []\r\n",
        "  pad_template = np.zeros(padshape, dtype=np.uint8)\r\n",
        "  \r\n",
        "  for i in range(start,stop):\r\n",
        "    print('importing set %d' %(i))\r\n",
        "    paddingX = np.copy(pad_template)\r\n",
        "    paddingY = np.copy(pad_template)\r\n",
        "\r\n",
        "    Xi = np.load('./drive/My Drive/Deep_US/npdata/%d_in2.npy'%(i))\r\n",
        "    Yi = np.load('./drive/My Drive/Deep_US/npdata/%d_out2.npy'%(i))\r\n",
        "\r\n",
        "    paddingX[:Xi.shape[0], :Xi.shape[1], :Xi.shape[2]] = Xi\r\n",
        "    paddingY[:Yi.shape[0], :Yi.shape[1], :Yi.shape[2]] = Yi\r\n",
        "\r\n",
        "    X.extend(paddingX)\r\n",
        "    Y.extend(paddingY)\r\n",
        "\r\n",
        "  return np.expand_dims(np.array(X), axis=3), np.expand_dims(np.array(Y, dtype=np.float32), axis=3)\r\n",
        "\r\n"
      ],
      "execution_count": null,
      "outputs": []
    },
    {
      "cell_type": "code",
      "metadata": {
        "id": "6uIojlK5kG5v"
      },
      "source": [
        "w = {\r\n",
        "      '1':8,\r\n",
        "      '2':16,\r\n",
        "      '3':32,\r\n",
        "      '4':64,\r\n",
        "      'bottleneck':128\r\n",
        "  }\r\n",
        "\r\n",
        "model = build_unet(w,pad_dim[1:])\r\n",
        "model.compile(optimizer=Adam(lr=1e-1), loss = iou_loss, metrics=dice_coeff)"
      ],
      "execution_count": null,
      "outputs": []
    },
    {
      "cell_type": "code",
      "metadata": {
        "id": "zwzxE6nS6_OG",
        "colab": {
          "base_uri": "https://localhost:8080/"
        },
        "outputId": "0220150a-5dbe-4951-c25e-ab7318dfe450"
      },
      "source": [
        "model.summary()"
      ],
      "execution_count": null,
      "outputs": [
        {
          "output_type": "stream",
          "text": [
            "Model: \"model\"\n",
            "__________________________________________________________________________________________________\n",
            "Layer (type)                    Output Shape         Param #     Connected to                     \n",
            "==================================================================================================\n",
            "input_1 (InputLayer)            [(None, 350, 420, 1) 0                                            \n",
            "__________________________________________________________________________________________________\n",
            "conv2d (Conv2D)                 (None, 350, 420, 8)  80          input_1[0][0]                    \n",
            "__________________________________________________________________________________________________\n",
            "batch_normalization (BatchNorma (None, 350, 420, 8)  32          conv2d[0][0]                     \n",
            "__________________________________________________________________________________________________\n",
            "conv2d_1 (Conv2D)               (None, 350, 420, 8)  584         batch_normalization[0][0]        \n",
            "__________________________________________________________________________________________________\n",
            "batch_normalization_1 (BatchNor (None, 350, 420, 8)  32          conv2d_1[0][0]                   \n",
            "__________________________________________________________________________________________________\n",
            "dropout (Dropout)               (None, 350, 420, 8)  0           batch_normalization_1[0][0]      \n",
            "__________________________________________________________________________________________________\n",
            "max_pooling2d (MaxPooling2D)    (None, 175, 210, 8)  0           dropout[0][0]                    \n",
            "__________________________________________________________________________________________________\n",
            "conv2d_2 (Conv2D)               (None, 175, 210, 16) 1168        max_pooling2d[0][0]              \n",
            "__________________________________________________________________________________________________\n",
            "batch_normalization_2 (BatchNor (None, 175, 210, 16) 64          conv2d_2[0][0]                   \n",
            "__________________________________________________________________________________________________\n",
            "conv2d_3 (Conv2D)               (None, 175, 210, 16) 2320        batch_normalization_2[0][0]      \n",
            "__________________________________________________________________________________________________\n",
            "batch_normalization_3 (BatchNor (None, 175, 210, 16) 64          conv2d_3[0][0]                   \n",
            "__________________________________________________________________________________________________\n",
            "dropout_1 (Dropout)             (None, 175, 210, 16) 0           batch_normalization_3[0][0]      \n",
            "__________________________________________________________________________________________________\n",
            "max_pooling2d_1 (MaxPooling2D)  (None, 87, 105, 16)  0           dropout_1[0][0]                  \n",
            "__________________________________________________________________________________________________\n",
            "conv2d_4 (Conv2D)               (None, 87, 105, 32)  4640        max_pooling2d_1[0][0]            \n",
            "__________________________________________________________________________________________________\n",
            "batch_normalization_4 (BatchNor (None, 87, 105, 32)  128         conv2d_4[0][0]                   \n",
            "__________________________________________________________________________________________________\n",
            "conv2d_5 (Conv2D)               (None, 87, 105, 32)  9248        batch_normalization_4[0][0]      \n",
            "__________________________________________________________________________________________________\n",
            "batch_normalization_5 (BatchNor (None, 87, 105, 32)  128         conv2d_5[0][0]                   \n",
            "__________________________________________________________________________________________________\n",
            "dropout_2 (Dropout)             (None, 87, 105, 32)  0           batch_normalization_5[0][0]      \n",
            "__________________________________________________________________________________________________\n",
            "max_pooling2d_2 (MaxPooling2D)  (None, 43, 52, 32)   0           dropout_2[0][0]                  \n",
            "__________________________________________________________________________________________________\n",
            "conv2d_6 (Conv2D)               (None, 43, 52, 64)   18496       max_pooling2d_2[0][0]            \n",
            "__________________________________________________________________________________________________\n",
            "batch_normalization_6 (BatchNor (None, 43, 52, 64)   256         conv2d_6[0][0]                   \n",
            "__________________________________________________________________________________________________\n",
            "conv2d_7 (Conv2D)               (None, 43, 52, 32)   18464       batch_normalization_6[0][0]      \n",
            "__________________________________________________________________________________________________\n",
            "batch_normalization_7 (BatchNor (None, 43, 52, 32)   128         conv2d_7[0][0]                   \n",
            "__________________________________________________________________________________________________\n",
            "dropout_3 (Dropout)             (None, 43, 52, 32)   0           batch_normalization_7[0][0]      \n",
            "__________________________________________________________________________________________________\n",
            "max_pooling2d_3 (MaxPooling2D)  (None, 21, 26, 32)   0           dropout_3[0][0]                  \n",
            "__________________________________________________________________________________________________\n",
            "conv2d_8 (Conv2D)               (None, 21, 26, 128)  36992       max_pooling2d_3[0][0]            \n",
            "__________________________________________________________________________________________________\n",
            "conv2d_9 (Conv2D)               (None, 21, 26, 128)  147584      conv2d_8[0][0]                   \n",
            "__________________________________________________________________________________________________\n",
            "dropout_4 (Dropout)             (None, 21, 26, 128)  0           conv2d_9[0][0]                   \n",
            "__________________________________________________________________________________________________\n",
            "conv2d_transpose (Conv2DTranspo (None, 42, 52, 1)    513         dropout_4[0][0]                  \n",
            "__________________________________________________________________________________________________\n",
            "cropping2d (Cropping2D)         (None, 42, 52, 32)   0           dropout_3[0][0]                  \n",
            "__________________________________________________________________________________________________\n",
            "add (Add)                       (None, 42, 52, 32)   0           conv2d_transpose[0][0]           \n",
            "                                                                 cropping2d[0][0]                 \n",
            "__________________________________________________________________________________________________\n",
            "conv2d_10 (Conv2D)              (None, 42, 52, 32)   9248        add[0][0]                        \n",
            "__________________________________________________________________________________________________\n",
            "batch_normalization_8 (BatchNor (None, 42, 52, 32)   128         conv2d_10[0][0]                  \n",
            "__________________________________________________________________________________________________\n",
            "conv2d_11 (Conv2D)              (None, 42, 52, 32)   9248        batch_normalization_8[0][0]      \n",
            "__________________________________________________________________________________________________\n",
            "batch_normalization_9 (BatchNor (None, 42, 52, 32)   128         conv2d_11[0][0]                  \n",
            "__________________________________________________________________________________________________\n",
            "dropout_5 (Dropout)             (None, 42, 52, 32)   0           batch_normalization_9[0][0]      \n",
            "__________________________________________________________________________________________________\n",
            "conv2d_transpose_1 (Conv2DTrans (None, 84, 104, 1)   129         dropout_5[0][0]                  \n",
            "__________________________________________________________________________________________________\n",
            "cropping2d_1 (Cropping2D)       (None, 84, 104, 32)  0           dropout_2[0][0]                  \n",
            "__________________________________________________________________________________________________\n",
            "add_1 (Add)                     (None, 84, 104, 32)  0           conv2d_transpose_1[0][0]         \n",
            "                                                                 cropping2d_1[0][0]               \n",
            "__________________________________________________________________________________________________\n",
            "conv2d_12 (Conv2D)              (None, 84, 104, 32)  9248        add_1[0][0]                      \n",
            "__________________________________________________________________________________________________\n",
            "batch_normalization_10 (BatchNo (None, 84, 104, 32)  128         conv2d_12[0][0]                  \n",
            "__________________________________________________________________________________________________\n",
            "conv2d_13 (Conv2D)              (None, 84, 104, 32)  9248        batch_normalization_10[0][0]     \n",
            "__________________________________________________________________________________________________\n",
            "batch_normalization_11 (BatchNo (None, 84, 104, 32)  128         conv2d_13[0][0]                  \n",
            "__________________________________________________________________________________________________\n",
            "dropout_6 (Dropout)             (None, 84, 104, 32)  0           batch_normalization_11[0][0]     \n",
            "__________________________________________________________________________________________________\n",
            "conv2d_transpose_2 (Conv2DTrans (None, 168, 208, 1)  129         dropout_6[0][0]                  \n",
            "__________________________________________________________________________________________________\n",
            "cropping2d_2 (Cropping2D)       (None, 168, 208, 16) 0           dropout_1[0][0]                  \n",
            "__________________________________________________________________________________________________\n",
            "add_2 (Add)                     (None, 168, 208, 16) 0           conv2d_transpose_2[0][0]         \n",
            "                                                                 cropping2d_2[0][0]               \n",
            "__________________________________________________________________________________________________\n",
            "conv2d_14 (Conv2D)              (None, 168, 208, 16) 2320        add_2[0][0]                      \n",
            "__________________________________________________________________________________________________\n",
            "batch_normalization_12 (BatchNo (None, 168, 208, 16) 64          conv2d_14[0][0]                  \n",
            "__________________________________________________________________________________________________\n",
            "conv2d_15 (Conv2D)              (None, 168, 208, 16) 2320        batch_normalization_12[0][0]     \n",
            "__________________________________________________________________________________________________\n",
            "batch_normalization_13 (BatchNo (None, 168, 208, 16) 64          conv2d_15[0][0]                  \n",
            "__________________________________________________________________________________________________\n",
            "dropout_7 (Dropout)             (None, 168, 208, 16) 0           batch_normalization_13[0][0]     \n",
            "__________________________________________________________________________________________________\n",
            "conv2d_transpose_3 (Conv2DTrans (None, 336, 416, 1)  65          dropout_7[0][0]                  \n",
            "__________________________________________________________________________________________________\n",
            "cropping2d_3 (Cropping2D)       (None, 336, 416, 8)  0           dropout[0][0]                    \n",
            "__________________________________________________________________________________________________\n",
            "add_3 (Add)                     (None, 336, 416, 8)  0           conv2d_transpose_3[0][0]         \n",
            "                                                                 cropping2d_3[0][0]               \n",
            "__________________________________________________________________________________________________\n",
            "conv2d_16 (Conv2D)              (None, 336, 416, 8)  584         add_3[0][0]                      \n",
            "__________________________________________________________________________________________________\n",
            "batch_normalization_14 (BatchNo (None, 336, 416, 8)  32          conv2d_16[0][0]                  \n",
            "__________________________________________________________________________________________________\n",
            "dropout_8 (Dropout)             (None, 336, 416, 8)  0           batch_normalization_14[0][0]     \n",
            "__________________________________________________________________________________________________\n",
            "conv2d_17 (Conv2D)              (None, 336, 416, 8)  584         dropout_8[0][0]                  \n",
            "__________________________________________________________________________________________________\n",
            "batch_normalization_15 (BatchNo (None, 336, 416, 8)  32          conv2d_17[0][0]                  \n",
            "__________________________________________________________________________________________________\n",
            "dropout_9 (Dropout)             (None, 336, 416, 8)  0           batch_normalization_15[0][0]     \n",
            "__________________________________________________________________________________________________\n",
            "conv2d_18 (Conv2D)              (None, 336, 416, 1)  9           dropout_9[0][0]                  \n",
            "__________________________________________________________________________________________________\n",
            "zero_padding2d (ZeroPadding2D)  (None, 350, 420, 1)  0           conv2d_18[0][0]                  \n",
            "==================================================================================================\n",
            "Total params: 284,757\n",
            "Trainable params: 283,989\n",
            "Non-trainable params: 768\n",
            "__________________________________________________________________________________________________\n"
          ],
          "name": "stdout"
        }
      ]
    },
    {
      "cell_type": "code",
      "metadata": {
        "colab": {
          "base_uri": "https://localhost:8080/"
        },
        "id": "T8OjJ2hPkG80",
        "outputId": "4d003d79-3570-419c-fb00-f6e016d3d3e9"
      },
      "source": [
        "from keras.callbacks import ReduceLROnPlateau\r\n",
        "import gc\r\n",
        "\r\n",
        "reduce_lr = ReduceLROnPlateau(monitor='dice_coeff', factor=0.2, mode='max',\r\n",
        "                              patience=2, min_lr=1e-5)\r\n",
        "\r\n",
        "# Train in small batches of training data\r\n",
        "batches = {0:[1,6], 1:[6,11]}\r\n",
        "dice = []\r\n",
        "dice_val = []\r\n",
        "for round in range(3):\r\n",
        "  for i in range(2):\r\n",
        "    bi, bf = batches[i]\r\n",
        "    X,Y = get_data(bi,bf,pad_dim)\r\n",
        "    X_train, X_val, Y_train, Y_val = train_test_split( X, Y, test_size=0.3, random_state=42)\r\n",
        "    del X, Y\r\n",
        "    gc.collect()\r\n",
        "    history = model.fit(X_train, Y_train, batch_size=128, epochs=3,validation_data = (X_val,Y_val), callbacks=[reduce_lr])\r\n",
        "    val_loss , val_dice = model.evaluate(X_val, Y_val)\r\n",
        "    print(val_dice)\r\n",
        "    dice.extend(history.history['dice_coeff'])\r\n",
        "    dice_val.extend(history.history['val_dice_coeff'])\r\n",
        "    del history,X_train, X_val, Y_train, Y_val\r\n",
        "    gc.collect()"
      ],
      "execution_count": null,
      "outputs": [
        {
          "output_type": "stream",
          "text": [
            "importing set 1\n",
            "importing set 2\n",
            "importing set 3\n",
            "importing set 4\n",
            "importing set 5\n"
          ],
          "name": "stdout"
        }
      ]
    },
    {
      "cell_type": "code",
      "metadata": {
        "id": "HWPS-hgKkG_D"
      },
      "source": [
        "plt.plot(dice)\r\n",
        "plt.plot(dice_val)\r\n",
        "plt.title('training and validation dice')\r\n",
        "plt.legend(['Dice Coeff - Training', 'Dice Coeff - Validation'])\r\n",
        "plt.show()"
      ],
      "execution_count": null,
      "outputs": []
    },
    {
      "cell_type": "code",
      "metadata": {
        "id": "s5dFKKpUkHCA"
      },
      "source": [
        "model.save('./drive/My Drive/Deep_US/segmentation_model/')"
      ],
      "execution_count": null,
      "outputs": []
    },
    {
      "cell_type": "code",
      "metadata": {
        "id": "OaQlixk4o3eb"
      },
      "source": [
        "X_test , Y_test = get_data(15,17,pad_dim)"
      ],
      "execution_count": null,
      "outputs": []
    },
    {
      "cell_type": "code",
      "metadata": {
        "id": "RcODctpskHDz"
      },
      "source": [
        "test = model.evaluate(X_test, Y_test, batch_size=32)"
      ],
      "execution_count": null,
      "outputs": []
    },
    {
      "cell_type": "code",
      "metadata": {
        "id": "7xDHcaX8TBty"
      },
      "source": [
        "ind = np.where(X_val == X_val.max())\r\n",
        "\r\n",
        "X_example = X_val[ind[0][0],:,:,:].reshape(1,pad_dim[1],pad_dim[2],1)\r\n",
        "Y_example = Y_val[ind[0][0],:,:,:]\r\n",
        "Y_hat_example = model.predict(X_example)\r\n",
        "\r\n",
        "plt.subplot(1,3,1)\r\n",
        "plt.imshow(np.squeeze(X_example), cmap='gray')\r\n",
        "plt.title('Input Frame')\r\n",
        "plt.subplot(1,3,2)\r\n",
        "plt.imshow(np.squeeze(Y_example), cmap='gray')\r\n",
        "plt.title('Desired ROI')\r\n",
        "plt.subplot(1,3,3)\r\n",
        "plt.imshow(np.squeeze(Y_hat_example), cmap='gray')\r\n",
        "plt.title('Predicted ROI')\r\n",
        "plt.show()"
      ],
      "execution_count": null,
      "outputs": []
    },
    {
      "cell_type": "code",
      "metadata": {
        "id": "7hacWKYlTr_U"
      },
      "source": [
        "Y_max()"
      ],
      "execution_count": null,
      "outputs": []
    },
    {
      "cell_type": "code",
      "metadata": {
        "id": "paelJSWXkHGP"
      },
      "source": [
        "ind = np.where(X_test == X_test.max())\r\n",
        "X_example = X_test[ind[0][180],:,:,:].reshape(1,pad_dim[1],pad_dim[2],1)\r\n",
        "Y_example = Y_test[ind[0][180],:,:,:]\r\n",
        "Y_hat_example = model.predict(X_example)\r\n",
        "\r\n",
        "plt.subplot(1,3,1)\r\n",
        "plt.imshow(np.squeeze(X_example), cmap='gray')\r\n",
        "plt.title('Input Frame')\r\n",
        "plt.subplot(1,3,2)\r\n",
        "plt.imshow(np.squeeze(Y_example), cmap='gray')\r\n",
        "plt.title('Desired ROI')\r\n",
        "plt.subplot(1,3,3)\r\n",
        "plt.imshow(np.squeeze(Y_hat_example), cmap='gray')\r\n",
        "plt.title('Predicted ROI')\r\n",
        "plt.show()"
      ],
      "execution_count": null,
      "outputs": []
    }
  ]
}