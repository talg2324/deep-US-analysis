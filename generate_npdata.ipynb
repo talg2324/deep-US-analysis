{
  "nbformat": 4,
  "nbformat_minor": 0,
  "metadata": {
    "colab": {
      "name": "generate_npdata.ipynb",
      "provenance": [],
      "collapsed_sections": [],
      "authorship_tag": "ABX9TyP1faZe7qdJQHLUkDEJtEiJ"
    },
    "kernelspec": {
      "display_name": "Python 3",
      "name": "python3"
    }
  },
  "cells": [
    {
      "cell_type": "code",
      "metadata": {
        "colab": {
          "background_save": true,
          "base_uri": "https://localhost:8080/"
        },
        "id": "Ap4vWEj9wkQb",
        "outputId": "85b73c51-e51b-4341-dc22-c9c2819936c7"
      },
      "source": [
        "!pip install pydicom\r\n",
        "import pydicom\r\n",
        "import numpy as np\r\n",
        "import os\r\n",
        "import cv2"
      ],
      "execution_count": null,
      "outputs": [
        {
          "output_type": "stream",
          "text": [
            "Collecting pydicom\n",
            "\u001b[?25l  Downloading https://files.pythonhosted.org/packages/f4/15/df16546bc59bfca390cf072d473fb2c8acd4231636f64356593a63137e55/pydicom-2.1.2-py3-none-any.whl (1.9MB)\n",
            "\u001b[K     |████████████████████████████████| 1.9MB 8.1MB/s \n",
            "\u001b[?25hInstalling collected packages: pydicom\n",
            "Successfully installed pydicom-2.1.2\n"
          ],
          "name": "stdout"
        }
      ]
    },
    {
      "cell_type": "code",
      "metadata": {
        "id": "IZ52FujU3S9x"
      },
      "source": [
        "def generate_bbs(labels):\r\n",
        "    l = []\r\n",
        "    for label in labels:\r\n",
        "      y,x = label.nonzero()\r\n",
        "\r\n",
        "      ROI = np.zeros_like(label)\r\n",
        "      if len(y) and len(x):\r\n",
        "        ROI[y.min()-5:y.max()+5, x.min()-5:x.max()+5] = 1\r\n",
        "      l.append(ROI)\r\n",
        "\r\n",
        "    return np.array(l)"
      ],
      "execution_count": null,
      "outputs": []
    },
    {
      "cell_type": "code",
      "metadata": {
        "id": "IieLrE8GnHmr"
      },
      "source": [
        "def downsample(vid, factor=4):\r\n",
        "\r\n",
        "  l = []\r\n",
        "  new_shape = (vid.shape[2]//factor, vid.shape[1]//factor)\r\n",
        "  for im in vid:\r\n",
        "    l.append(cv2.resize(im, new_shape))\r\n",
        "\r\n",
        "  return np.array(l)"
      ],
      "execution_count": null,
      "outputs": []
    },
    {
      "cell_type": "code",
      "metadata": {
        "id": "jCQqUa4D3W_G"
      },
      "source": [
        "def read_ims(data_path, start, stop):\r\n",
        "    for i in range(start,stop):\r\n",
        "        vid_path = data_path + '/data/D' + f'{i:02}' + '.dcm'\r\n",
        "        label_vid_path = data_path + '/groundtruth/D' + f'{i:02}' + '.dcm'\r\n",
        "\r\n",
        "        ims_dcm = pydicom.dcmread(vid_path)\r\n",
        "        labels_dcm = pydicom.dcmread(label_vid_path)\r\n",
        "\r\n",
        "        ims = ims_dcm.pixel_array\r\n",
        "        out_labels = labels_dcm.pixel_array\r\n",
        "\r\n",
        "        in1 = downsample(ims, 4)\r\n",
        "        out1 = downsample(out_labels, 4)\r\n",
        "\r\n",
        "        in2 = generate_bbs(out_labels)*ims\r\n",
        "\r\n",
        "        np.save(data_path + '/npdata/%d_in1.npy'%(i), in1)\r\n",
        "        np.save(data_path + '/npdata/%d_out1.npy'%(i), out1)\r\n",
        "        np.save(data_path + '/npdata/%d_in2.npy'%(i), in2)\r\n",
        "        np.save(data_path + '/npdata/%d_out2.npy'%(i), out_labels)"
      ],
      "execution_count": null,
      "outputs": []
    },
    {
      "cell_type": "code",
      "metadata": {
        "colab": {
          "base_uri": "https://localhost:8080/"
        },
        "id": "7R4yD7aZPfpq",
        "outputId": "3a9facf8-a99d-48f3-ac3d-071404bf2e82"
      },
      "source": [
        "from google.colab import drive\r\n",
        "drive.mount('/content/drive', force_remount=True)"
      ],
      "execution_count": null,
      "outputs": [
        {
          "output_type": "stream",
          "text": [
            "Mounted at /content/drive\n"
          ],
          "name": "stdout"
        }
      ]
    },
    {
      "cell_type": "code",
      "metadata": {
        "id": "BbFsEnb83oPt"
      },
      "source": [
        "path = './drive/My Drive/Deep_US'\r\n",
        "start = 1\r\n",
        "stop = 17\r\n",
        "read_ims(path, start, stop)"
      ],
      "execution_count": null,
      "outputs": []
    }
  ]
}