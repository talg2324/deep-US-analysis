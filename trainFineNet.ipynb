{
  "nbformat": 4,
  "nbformat_minor": 0,
  "metadata": {
    "accelerator": "GPU",
    "colab": {
      "name": "trainFineNet.ipynb",
      "provenance": [],
      "collapsed_sections": []
    },
    "kernelspec": {
      "display_name": "Python 3",
      "name": "python3"
    }
  },
  "cells": [
    {
      "cell_type": "code",
      "metadata": {
        "id": "xHFN5lzbCpZ_"
      },
      "source": [
        "from keras import backend as K\r\n",
        "from google.colab import drive\r\n",
        "from keras.layers import Conv2D, MaxPooling2D, Conv2DTranspose, BatchNormalization, Dropout, Input, Cropping2D, Add, ZeroPadding2D\r\n",
        "from keras.models import Model, load_model\r\n",
        "from keras.optimizers import Adam\r\n",
        "import numpy as np\r\n",
        "from matplotlib import pyplot as plt"
      ],
      "execution_count": null,
      "outputs": []
    },
    {
      "cell_type": "code",
      "metadata": {
        "colab": {
          "base_uri": "https://localhost:8080/"
        },
        "id": "gqjtzciEDKBv",
        "outputId": "c886c437-bf97-4f6f-ad13-e66bec640d2b"
      },
      "source": [
        "from google.colab import drive\r\n",
        "drive.mount('/content/drive')"
      ],
      "execution_count": null,
      "outputs": [
        {
          "output_type": "stream",
          "text": [
            "Mounted at /content/drive\n"
          ],
          "name": "stdout"
        }
      ]
    },
    {
      "cell_type": "code",
      "metadata": {
        "id": "jNiO0Y6F4lgT"
      },
      "source": [
        "def calc_cropping_layer(upsample, downsample):\r\n",
        "    # Downsample layer is always bigger\r\n",
        "    shape_mismatch = tuple(downsample.shape[i]-upsample.shape[i] for i in range(1,3))\r\n",
        "    return tuple((i//2, i-i//2) for i in shape_mismatch)"
      ],
      "execution_count": null,
      "outputs": []
    },
    {
      "cell_type": "code",
      "metadata": {
        "id": "4-2KIgDS9gXb"
      },
      "source": [
        "def dice_coeff(y_true, y_pred):\r\n",
        "\r\n",
        "    smooth=1.\r\n",
        "\r\n",
        "    y_true_f = K.flatten(y_true)\r\n",
        "    y_pred_f = K.flatten(y_pred)\r\n",
        "    intersection = K.sum(y_true_f * y_pred_f)\r\n",
        "    return (2. * intersection + smooth) / (K.sum(y_true_f) + K.sum(y_pred_f) + smooth)\r\n",
        "\r\n",
        "\r\n",
        "def dice_coeff_loss(y_true, y_pred):\r\n",
        "    return 1-dice_coeff(y_true, y_pred)"
      ],
      "execution_count": null,
      "outputs": []
    },
    {
      "cell_type": "code",
      "metadata": {
        "id": "YPA60yBB8qxC"
      },
      "source": [
        "def build_unet(widths, padshape=(300,400)):\r\n",
        "\r\n",
        "    x0 = Input(shape=(padshape[0],padshape[1],1))\r\n",
        "\r\n",
        "    # -- Downsample layers --\r\n",
        "\r\n",
        "    # Block 1\r\n",
        "    xd11 = Conv2D(widths['1'], 3 , activation='relu', padding='same')(x0)\r\n",
        "    xd11 = BatchNormalization()(xd11)\r\n",
        "\r\n",
        "    xd12 = Conv2D(widths['1'], 3, activation='relu', padding='same')(xd11)\r\n",
        "    xd12 = BatchNormalization()(xd12)\r\n",
        "\r\n",
        "    # Block 2\r\n",
        "    xd20 = MaxPooling2D(2)(xd12)\r\n",
        "    \r\n",
        "    xd21 = Conv2D(widths['2'], 3, activation='relu', padding='same')(xd20)\r\n",
        "    xd21 = BatchNormalization()(xd21)\r\n",
        "\r\n",
        "    xd22 = Conv2D(widths['2'], 3, activation='relu', padding='same')(xd21)\r\n",
        "    xd22 = BatchNormalization()(xd22)\r\n",
        "\r\n",
        "    # Block 3\r\n",
        "    xd30 = MaxPooling2D(2)(xd22)\r\n",
        "    \r\n",
        "    xd31 = Conv2D(widths['3'], 3, activation='relu', padding='same')(xd30)\r\n",
        "    xd31 = BatchNormalization()(xd31)\r\n",
        "\r\n",
        "    xd32 = Conv2D(widths['3'], 3, activation='relu', padding='same')(xd31)\r\n",
        "    xd32 = BatchNormalization()(xd32)\r\n",
        "    \r\n",
        "    # Block 4\r\n",
        "    xd40 = MaxPooling2D(2)(xd32)\r\n",
        "    \r\n",
        "    xd41 = Conv2D(widths['4'], 3, activation='relu', padding='same')(xd40)\r\n",
        "    xd41 = BatchNormalization()(xd41)\r\n",
        "\r\n",
        "    xd42 = Conv2D(widths['3'], 3, activation='relu', padding='same')(xd41)\r\n",
        "    xd42 = BatchNormalization()(xd42)\r\n",
        "\r\n",
        "    # -- Bottleneck --\r\n",
        "\r\n",
        "    xb = MaxPooling2D(2)(xd42)\r\n",
        "    xb1 = Conv2D(widths['bottleneck'], 3, activation='relu', padding='same')(xb)\r\n",
        "    xb2 = Conv2D(widths['bottleneck'], 3, activation='relu', padding='same')(xb1)\r\n",
        "\r\n",
        "    # -- Upsample Layers --    \r\n",
        "\r\n",
        "    # Block 4\r\n",
        "    xu40 = Conv2DTranspose(1, 2, strides=2, activation='relu', padding='same')(xb2)    \r\n",
        "    crop_dims = calc_cropping_layer(xu40, xd42)\r\n",
        "    skip_connection = Cropping2D(crop_dims)(xd42)\r\n",
        "    xu40 = Add()([xu40, skip_connection])\r\n",
        "\r\n",
        "    xu41 = Conv2D(widths['3'], 3, activation='relu', padding='same')(xu40)\r\n",
        "    xu41 = BatchNormalization()(xu41)\r\n",
        "\r\n",
        "    xu42 = Conv2D(widths['3'], 3, activation='relu', padding='same')(xu41)\r\n",
        "    xu42 = BatchNormalization()(xu42)\r\n",
        "\r\n",
        "    # Block 3\r\n",
        "\r\n",
        "    xu30 = Conv2DTranspose(1, 2, strides=2, activation='relu', padding='same')(xu42)    \r\n",
        "    crop_dims = calc_cropping_layer(xu30, xd32)\r\n",
        "    skip_connection = Cropping2D(crop_dims)(xd32)\r\n",
        "    xu30 = Add()([xu30, skip_connection])\r\n",
        "\r\n",
        "    xu31 = Conv2D(widths['3'], 3, activation='relu', padding='same')(xu30)\r\n",
        "    xu31 = BatchNormalization()(xu31)\r\n",
        "\r\n",
        "    xu32 = Conv2D(widths['3'], 3, activation='relu', padding='same')(xu31)\r\n",
        "    xu32 = BatchNormalization()(xu32)\r\n",
        "\r\n",
        "    # Block 2\r\n",
        "\r\n",
        "    xu20 = Conv2DTranspose(1, 2, strides=2 , activation='relu', padding='same')(xu32)\r\n",
        "    crop_dims = calc_cropping_layer(xu20,xd22)\r\n",
        "    skip_connection = Cropping2D(crop_dims)(xd22)\r\n",
        "    xu20 = Add()([xu20, skip_connection])\r\n",
        "\r\n",
        "    xu21 = Conv2D(widths['2'], 3, activation='relu', padding='same')(xu20)\r\n",
        "    xu21 = BatchNormalization()(xu21)\r\n",
        "\r\n",
        "    xu22 = Conv2D(widths['2'], 3, activation='relu', padding='same')(xu21)\r\n",
        "    xu22 = BatchNormalization()(xu22)\r\n",
        "\r\n",
        "    # Block 1\r\n",
        "    xu10 = Conv2DTranspose(1, 2, strides=2 , activation='relu', padding='same')(xu22)\r\n",
        "\r\n",
        "    crop_dims = calc_cropping_layer(xu10,xd12)\r\n",
        "    skip_connection = Cropping2D(crop_dims)(xd12)\r\n",
        "    xu10 = Add()([xu10, skip_connection])\r\n",
        "\r\n",
        "    xu11 = Conv2D(widths['1'], 3, activation='relu', padding='same')(xu10)\r\n",
        "    xu11 = BatchNormalization()(xu11)\r\n",
        "\r\n",
        "    xu12 = Conv2D(widths['1'], 3, activation='relu', padding='same')(xu11)\r\n",
        "    xu12 = BatchNormalization()(xu12)\r\n",
        "\r\n",
        "    # --- Output Layers ---\r\n",
        "    x_out = Conv2D(1, 1, padding='same', activation='sigmoid')(xu12)\r\n",
        "    pad_dims = calc_cropping_layer(x_out, x0)\r\n",
        "    x_out = ZeroPadding2D(pad_dims)(x_out)\r\n",
        "\r\n",
        "    model = Model(x0, x_out)\r\n",
        "\r\n",
        "    return model\r\n"
      ],
      "execution_count": null,
      "outputs": []
    },
    {
      "cell_type": "code",
      "metadata": {
        "id": "0HZetwRPEQ4Z"
      },
      "source": [
        "def get_data(start,stop, padshape=(1200,300,400)):\r\n",
        "  X = []\r\n",
        "  Y = []\r\n",
        "  pad_template = np.zeros(padshape, dtype=np.uint8)\r\n",
        "  \r\n",
        "  for i in range(start,stop):\r\n",
        "    print('importing set %d' %(i))\r\n",
        "    paddingX = np.copy(pad_template)\r\n",
        "    paddingY = np.copy(pad_template)\r\n",
        "\r\n",
        "    Xi = np.load('./drive/My Drive/Deep_US/npdata/%d_in2.npy'%(i))\r\n",
        "    Yi = np.load('./drive/My Drive/Deep_US/npdata/%d_out2.npy'%(i))\r\n",
        "\r\n",
        "    paddingX[:Xi.shape[0], :Xi.shape[1], :Xi.shape[2]] = Xi\r\n",
        "    paddingY[:Yi.shape[0], :Yi.shape[1], :Yi.shape[2]] = Yi\r\n",
        "\r\n",
        "    X.extend(paddingX)\r\n",
        "    Y.extend(paddingY)\r\n",
        "\r\n",
        "  return np.expand_dims(np.array(X), axis=3), np.expand_dims(np.array(Y, dtype=np.float32), axis=3)\r\n",
        "\r\n"
      ],
      "execution_count": null,
      "outputs": []
    },
    {
      "cell_type": "code",
      "metadata": {
        "colab": {
          "base_uri": "https://localhost:8080/"
        },
        "id": "EKA35lTdFj7n",
        "outputId": "7f3fbd48-1547-491d-a544-39578eb95cda"
      },
      "source": [
        "X, Y = get_data(1,2)"
      ],
      "execution_count": null,
      "outputs": [
        {
          "output_type": "stream",
          "text": [
            "importing set 1\n"
          ],
          "name": "stdout"
        }
      ]
    },
    {
      "cell_type": "code",
      "metadata": {
        "colab": {
          "base_uri": "https://localhost:8080/",
          "height": 185
        },
        "id": "S3Ds375TFzRc",
        "outputId": "bb1e8711-7f94-4329-a276-90161b5e23a7"
      },
      "source": [
        "# Verify data\r\n",
        "# See the ROI in Y Labels\r\n",
        "print(X.shape)\r\n",
        "plt.subplot(1,2,1)\r\n",
        "plt.imshow(X[77,:,:,0], cmap='gray')\r\n",
        "plt.subplot(1,2,2)\r\n",
        "plt.imshow(Y[77,:,:,0]/255, cmap='gray')\r\n",
        "plt.show()"
      ],
      "execution_count": null,
      "outputs": [
        {
          "output_type": "stream",
          "text": [
            "(1200, 300, 400, 1)\n"
          ],
          "name": "stdout"
        },
        {
          "output_type": "display_data",
          "data": {
            "image/png": "[encoded data removed]",
            "text/plain": [
              "<Figure size 432x288 with 2 Axes>"
            ]
          },
          "metadata": {
            "tags": []
          }
        }
      ]
    },
    {
      "cell_type": "code",
      "metadata": {
        "colab": {
          "background_save": true
        },
        "id": "qklT-GttAQWO"
      },
      "source": [
        "w = {\r\n",
        "      '1':16,\r\n",
        "      '2':32,\r\n",
        "      '3':64,\r\n",
        "      '4':128,\r\n",
        "      'bottleneck':256\r\n",
        "  }\r\n",
        "\r\n",
        "model = build_unet(w)\r\n",
        "model.compile(optimizer=Adam(lr=1e-3), loss = dice_coeff_loss, metrics=dice_coeff)"
      ],
      "execution_count": null,
      "outputs": []
    },
    {
      "cell_type": "code",
      "metadata": {
        "colab": {
          "background_save": true
        },
        "id": "DBWciO-SrQli"
      },
      "source": [
        "from keras.callbacks import ReduceLROnPlateau\r\n",
        "import gc\r\n",
        "\r\n",
        "reduce_lr = ReduceLROnPlateau(monitor='dice_coeff', factor=0.2, mode='max',\r\n",
        "                              patience=5, min_lr=1e-5)\r\n",
        "\r\n",
        "# Train in small batches of training data\r\n",
        "batches = {0:[1,7], 1:[7,13]}\r\n",
        "dice = []\r\n",
        "dice_val = []\r\n",
        "for round in range(3):\r\n",
        "  for i in range(2):\r\n",
        "    bi, bf = batches[i]\r\n",
        "    X,Y = get_data(bi,bf)\r\n",
        "    X_train X\r\n",
        "\r\n",
        "    history = model.fit(X, Y, batch_size=64, validation_split=0.2, epochs=5, callbacks=[reduce_lr])\r\n",
        "    dice.extend(history.history['dice_coeff'])\r\n",
        "    dice_val.extend(history.history['val_dice_coeff'])\r\n",
        "\r\n",
        "    del history, X, Y\r\n",
        "    gc.collect()"
      ],
      "execution_count": null,
      "outputs": []
    },
    {
      "cell_type": "code",
      "metadata": {
        "colab": {
          "background_save": true
        },
        "id": "BZHrT_YNIslZ",
        "outputId": "f8f9fd6b-cea3-479d-fb43-b725cd0aa646"
      },
      "source": [
        "plt.plot(dice)\r\n",
        "plt.plot(dice_val)\r\n",
        "plt.legend(['Dice Coeff - Training', 'Dice Coeff - Validation'])\r\n",
        "plt.show()"
      ],
      "execution_count": null,
      "outputs": [
        {
          "output_type": "display_data",
          "data": {
            "image/png": "[encoded data removed]",
            "text/plain": [
              "<Figure size 432x288 with 1 Axes>"
            ]
          },
          "metadata": {
            "tags": []
          }
        }
      ]
    },
    {
      "cell_type": "code",
      "metadata": {
        "colab": {
          "background_save": true
        },
        "id": "ap_SchEwP7mJ",
        "outputId": "03c6a750-9a53-4b23-c7ba-9e643df18775"
      },
      "source": [
        "model.save('./drive/My Drive/Deep_US/segmentation_model/')"
      ],
      "execution_count": null,
      "outputs": [
        {
          "output_type": "stream",
          "text": [
            "INFO:tensorflow:Assets written to: ./drive/My Drive/Deep_US/segmentation_model/assets\n"
          ],
          "name": "stdout"
        }
      ]
    },
    {
      "cell_type": "code",
      "metadata": {
        "colab": {
          "background_save": true
        },
        "id": "n39_nHenjWUi"
      },
      "source": [
        "# model = load_model('./drive/My Drive/Deep_US/segmentation_model', compile=False)\r\n",
        "# model.compile(optimizer=Adam(lr=1e-3), loss = dice_coeff_loss, metrics=dice_coeff)"
      ],
      "execution_count": null,
      "outputs": []
    },
    {
      "cell_type": "code",
      "metadata": {
        "colab": {
          "background_save": true
        },
        "id": "glsw5GnDRI6T",
        "outputId": "a1c1e329-e144-4fb6-91fa-d6219e634374"
      },
      "source": [
        "# Test set\r\n",
        "X_test, Y_test = get_data(13,17)"
      ],
      "execution_count": null,
      "outputs": [
        {
          "output_type": "stream",
          "text": [
            "importing set 13\n",
            "importing set 14\n"
          ],
          "name": "stdout"
        },
        {
          "output_type": "error",
          "ename": "ValueError",
          "evalue": "ignored",
          "traceback": [
            "\u001b[0;31m---------------------------------------------------------------------------\u001b[0m",
            "\u001b[0;31mValueError\u001b[0m                                Traceback (most recent call last)",
            "\u001b[0;32m<ipython-input-14-501381d8efab>\u001b[0m in \u001b[0;36m<module>\u001b[0;34m()\u001b[0m\n\u001b[1;32m      1\u001b[0m \u001b[0;31m# Test set\u001b[0m\u001b[0;34m\u001b[0m\u001b[0;34m\u001b[0m\u001b[0;34m\u001b[0m\u001b[0m\n\u001b[0;32m----> 2\u001b[0;31m \u001b[0mX_test\u001b[0m\u001b[0;34m,\u001b[0m \u001b[0mY_test\u001b[0m \u001b[0;34m=\u001b[0m \u001b[0mget_data\u001b[0m\u001b[0;34m(\u001b[0m\u001b[0;36m13\u001b[0m\u001b[0;34m,\u001b[0m\u001b[0;36m17\u001b[0m\u001b[0;34m)\u001b[0m\u001b[0;34m\u001b[0m\u001b[0;34m\u001b[0m\u001b[0m\n\u001b[0m",
            "\u001b[0;32m<ipython-input-6-10cc774603b9>\u001b[0m in \u001b[0;36mget_data\u001b[0;34m(start, stop, padshape)\u001b[0m\n\u001b[1;32m     12\u001b[0m     \u001b[0mYi\u001b[0m \u001b[0;34m=\u001b[0m \u001b[0mnp\u001b[0m\u001b[0;34m.\u001b[0m\u001b[0mload\u001b[0m\u001b[0;34m(\u001b[0m\u001b[0;34m'./drive/My Drive/Deep_US/npdata/%d_out2.npy'\u001b[0m\u001b[0;34m%\u001b[0m\u001b[0;34m(\u001b[0m\u001b[0mi\u001b[0m\u001b[0;34m)\u001b[0m\u001b[0;34m)\u001b[0m\u001b[0;34m\u001b[0m\u001b[0;34m\u001b[0m\u001b[0m\n\u001b[1;32m     13\u001b[0m \u001b[0;34m\u001b[0m\u001b[0m\n\u001b[0;32m---> 14\u001b[0;31m     \u001b[0mpaddingX\u001b[0m\u001b[0;34m[\u001b[0m\u001b[0;34m:\u001b[0m\u001b[0mXi\u001b[0m\u001b[0;34m.\u001b[0m\u001b[0mshape\u001b[0m\u001b[0;34m[\u001b[0m\u001b[0;36m0\u001b[0m\u001b[0;34m]\u001b[0m\u001b[0;34m,\u001b[0m \u001b[0;34m:\u001b[0m\u001b[0mXi\u001b[0m\u001b[0;34m.\u001b[0m\u001b[0mshape\u001b[0m\u001b[0;34m[\u001b[0m\u001b[0;36m1\u001b[0m\u001b[0;34m]\u001b[0m\u001b[0;34m,\u001b[0m \u001b[0;34m:\u001b[0m\u001b[0mXi\u001b[0m\u001b[0;34m.\u001b[0m\u001b[0mshape\u001b[0m\u001b[0;34m[\u001b[0m\u001b[0;36m2\u001b[0m\u001b[0;34m]\u001b[0m\u001b[0;34m]\u001b[0m \u001b[0;34m=\u001b[0m \u001b[0mXi\u001b[0m\u001b[0;34m\u001b[0m\u001b[0;34m\u001b[0m\u001b[0m\n\u001b[0m\u001b[1;32m     15\u001b[0m     \u001b[0mpaddingY\u001b[0m\u001b[0;34m[\u001b[0m\u001b[0;34m:\u001b[0m\u001b[0mYi\u001b[0m\u001b[0;34m.\u001b[0m\u001b[0mshape\u001b[0m\u001b[0;34m[\u001b[0m\u001b[0;36m0\u001b[0m\u001b[0;34m]\u001b[0m\u001b[0;34m,\u001b[0m \u001b[0;34m:\u001b[0m\u001b[0mYi\u001b[0m\u001b[0;34m.\u001b[0m\u001b[0mshape\u001b[0m\u001b[0;34m[\u001b[0m\u001b[0;36m1\u001b[0m\u001b[0;34m]\u001b[0m\u001b[0;34m,\u001b[0m \u001b[0;34m:\u001b[0m\u001b[0mYi\u001b[0m\u001b[0;34m.\u001b[0m\u001b[0mshape\u001b[0m\u001b[0;34m[\u001b[0m\u001b[0;36m2\u001b[0m\u001b[0;34m]\u001b[0m\u001b[0;34m]\u001b[0m \u001b[0;34m=\u001b[0m \u001b[0mYi\u001b[0m\u001b[0;34m\u001b[0m\u001b[0;34m\u001b[0m\u001b[0m\n\u001b[1;32m     16\u001b[0m \u001b[0;34m\u001b[0m\u001b[0m\n",
            "\u001b[0;31mValueError\u001b[0m: could not broadcast input array from shape (756,255,433) into shape (756,255,400)"
          ]
        }
      ]
    },
    {
      "cell_type": "code",
      "metadata": {
        "colab": {
          "background_save": true
        },
        "id": "s1M01N4QRvEI"
      },
      "source": [
        "test = model.evaluate(X_test, Y_test, batch_size=64)"
      ],
      "execution_count": null,
      "outputs": []
    },
    {
      "cell_type": "code",
      "metadata": {
        "colab": {
          "background_save": true
        },
        "id": "Ui25cfD3SpKD"
      },
      "source": [
        "X_example = X_test[200,:,:,:].reshape(1,300,400,1)\r\n",
        "Y_example = Y_test[200,:,:,:]\r\n",
        "Y_hat_example = model.predict(X_example)\r\n",
        "\r\n",
        "plt.subplot(1,3,1)\r\n",
        "plt.imshow(np.squeeze(X_example), cmap='gray')\r\n",
        "plt.title('Input Frame')\r\n",
        "plt.subplot(1,3,2)\r\n",
        "plt.imshow(np.squeeze(Y_example), cmap='gray')\r\n",
        "plt.title('Desired ROI')\r\n",
        "plt.subplot(1,3,3)\r\n",
        "plt.imshow(np.squeeze(Y_hat_example), cmap='gray')\r\n",
        "plt.title('Predicted ROI')\r\n",
        "plt.show()"
      ],
      "execution_count": null,
      "outputs": []
    }
  ]
}